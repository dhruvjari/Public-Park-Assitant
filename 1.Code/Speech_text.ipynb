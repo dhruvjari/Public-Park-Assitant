{
 "cells": [
  {
   "cell_type": "code",
   "execution_count": 1,
   "metadata": {},
   "outputs": [
    {
     "name": "stdout",
     "output_type": "stream",
     "text": [
      "Requirement already satisfied: ibm_watson in c:\\users\\dhruv jariwala\\appdata\\local\\programs\\python\\python37\\lib\\site-packages (5.1.0)\n",
      "Requirement already satisfied: python-dateutil>=2.5.3 in c:\\users\\dhruv jariwala\\appdata\\local\\programs\\python\\python37\\lib\\site-packages (from ibm_watson) (2.8.1)\n",
      "Requirement already satisfied: requests<3.0,>=2.0 in c:\\users\\dhruv jariwala\\appdata\\local\\programs\\python\\python37\\lib\\site-packages (from ibm_watson) (2.25.1)\n",
      "Requirement already satisfied: websocket-client==0.48.0 in c:\\users\\dhruv jariwala\\appdata\\local\\programs\\python\\python37\\lib\\site-packages (from ibm_watson) (0.48.0)\n",
      "Requirement already satisfied: ibm-cloud-sdk-core>=3.3.6 in c:\\users\\dhruv jariwala\\appdata\\local\\programs\\python\\python37\\lib\\site-packages (from ibm_watson) (3.8.0)\n",
      "Requirement already satisfied: six in c:\\users\\dhruv jariwala\\appdata\\local\\programs\\python\\python37\\lib\\site-packages (from websocket-client==0.48.0->ibm_watson) (1.15.0)\n",
      "Requirement already satisfied: PyJWT<3.0.0,>=2.0.1 in c:\\users\\dhruv jariwala\\appdata\\local\\programs\\python\\python37\\lib\\site-packages (from ibm-cloud-sdk-core>=3.3.6->ibm_watson) (2.0.1)\n",
      "Requirement already satisfied: urllib3<1.27,>=1.21.1 in c:\\users\\dhruv jariwala\\appdata\\local\\programs\\python\\python37\\lib\\site-packages (from requests<3.0,>=2.0->ibm_watson) (1.26.3)\n",
      "Requirement already satisfied: chardet<5,>=3.0.2 in c:\\users\\dhruv jariwala\\appdata\\local\\programs\\python\\python37\\lib\\site-packages (from requests<3.0,>=2.0->ibm_watson) (4.0.0)\n",
      "Requirement already satisfied: certifi>=2017.4.17 in c:\\users\\dhruv jariwala\\appdata\\local\\programs\\python\\python37\\lib\\site-packages (from requests<3.0,>=2.0->ibm_watson) (2020.12.5)\n",
      "Requirement already satisfied: idna<3,>=2.5 in c:\\users\\dhruv jariwala\\appdata\\local\\programs\\python\\python37\\lib\\site-packages (from requests<3.0,>=2.0->ibm_watson) (2.10)\n"
     ]
    }
   ],
   "source": [
    "!pip install ibm_watson"
   ]
  },
  {
   "cell_type": "code",
   "execution_count": 3,
   "metadata": {},
   "outputs": [],
   "source": [
    "from ibm_watson import SpeechToTextV1\n",
    "from ibm_cloud_sdk_core.authenticators import IAMAuthenticator"
   ]
  },
  {
   "cell_type": "code",
   "execution_count": 4,
   "metadata": {},
   "outputs": [],
   "source": [
    "apikey = 'nTbOqz4vaBJWjFQKu_c5k70aVmcpGriduireNRHbzeUP'\n",
    "url = 'https://api.eu-gb.speech-to-text.watson.cloud.ibm.com/instances/b7e27efd-ada2-4b44-80e9-73587ad9464e'"
   ]
  },
  {
   "cell_type": "code",
   "execution_count": 5,
   "metadata": {},
   "outputs": [],
   "source": [
    "#Setup Service\n",
    "authenticator = IAMAuthenticator(apikey)\n",
    "stt = SpeechToTextV1(authenticator=authenticator)\n",
    "stt.set_service_url(url)"
   ]
  },
  {
   "cell_type": "code",
   "execution_count": 11,
   "metadata": {},
   "outputs": [],
   "source": [
    "with open('hello1.mp3', 'rb') as f:\n",
    "    res = stt.recognize(audio=f, content_type='audio/mp3', model='en-US_NarrowbandModel', continuous=True).get_result()"
   ]
  },
  {
   "cell_type": "code",
   "execution_count": 16,
   "metadata": {},
   "outputs": [
    {
     "data": {
      "text/plain": [
       "{'result_index': 0,\n",
       " 'results': [{'final': True,\n",
       "   'alternatives': [{'transcript': 'several tornadoes touched down as a line of severe thunderstorms swept through Colorado on Sunday ',\n",
       "     'confidence': 0.92}]}]}"
      ]
     },
     "execution_count": 16,
     "metadata": {},
     "output_type": "execute_result"
    }
   ],
   "source": [
    "res"
   ]
  },
  {
   "cell_type": "code",
   "execution_count": 15,
   "metadata": {},
   "outputs": [
    {
     "data": {
      "text/plain": [
       "'several tornadoes touched down as a line of severe thunderstorms swept through Colorado on Sunday '"
      ]
     },
     "execution_count": 15,
     "metadata": {},
     "output_type": "execute_result"
    }
   ],
   "source": [
    "text = res ['results'][0]['alternatives'][0]['transcript']\n",
    "text"
   ]
  },
  {
   "cell_type": "code",
   "execution_count": 18,
   "metadata": {},
   "outputs": [],
   "source": [
    "with open('output.txt','w') as out:\n",
    "    out.writelines(text)"
   ]
  }
 ],
 "metadata": {
  "kernelspec": {
   "display_name": "Python 3",
   "language": "python",
   "name": "python3"
  },
  "language_info": {
   "codemirror_mode": {
    "name": "ipython",
    "version": 3
   },
   "file_extension": ".py",
   "mimetype": "text/x-python",
   "name": "python",
   "nbconvert_exporter": "python",
   "pygments_lexer": "ipython3",
   "version": "3.7.6"
  }
 },
 "nbformat": 4,
 "nbformat_minor": 5
}
